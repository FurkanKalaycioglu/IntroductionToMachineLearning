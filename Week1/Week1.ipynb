{
 "cells": [
  {
   "cell_type": "code",
   "execution_count": 1,
   "metadata": {},
   "outputs": [
    {
     "name": "stdout",
     "output_type": "stream",
     "text": [
      "3 3.0 3\n",
      "<class 'int'> <class 'float'> <class 'str'>\n"
     ]
    }
   ],
   "source": [
    "int_var = 3\n",
    "float_var = 3.0\n",
    "string_var = \"3\"\n",
    "print(int_var, float_var, string_var)\n",
    "print(type(int_var), type(float_var), type(string_var))\n"
   ]
  },
  {
   "cell_type": "code",
   "execution_count": 2,
   "metadata": {},
   "outputs": [
    {
     "name": "stdout",
     "output_type": "stream",
     "text": [
      "[1, 2, 3, 4, 5]\n",
      "<class 'list'>\n"
     ]
    }
   ],
   "source": [
    "arr=[1,2,3,4,5]\n",
    "print(arr)\n",
    "print(type(arr))\n"
   ]
  },
  {
   "cell_type": "code",
   "execution_count": 3,
   "metadata": {},
   "outputs": [
    {
     "name": "stdout",
     "output_type": "stream",
     "text": [
      "Help on built-in function sort:\n",
      "\n",
      "sort(*, key=None, reverse=False) method of builtins.list instance\n",
      "    Sort the list in ascending order and return None.\n",
      "    \n",
      "    The sort is in-place (i.e. the list itself is modified) and stable (i.e. the\n",
      "    order of two equal elements is maintained).\n",
      "    \n",
      "    If a key function is given, apply it once to each list item and sort them,\n",
      "    ascending or descending, according to their function values.\n",
      "    \n",
      "    The reverse flag can be set to sort in descending order.\n",
      "\n"
     ]
    },
    {
     "data": {
      "text/plain": [
       "['__add__',\n",
       " '__class__',\n",
       " '__class_getitem__',\n",
       " '__contains__',\n",
       " '__delattr__',\n",
       " '__delitem__',\n",
       " '__dir__',\n",
       " '__doc__',\n",
       " '__eq__',\n",
       " '__format__',\n",
       " '__ge__',\n",
       " '__getattribute__',\n",
       " '__getitem__',\n",
       " '__gt__',\n",
       " '__hash__',\n",
       " '__iadd__',\n",
       " '__imul__',\n",
       " '__init__',\n",
       " '__init_subclass__',\n",
       " '__iter__',\n",
       " '__le__',\n",
       " '__len__',\n",
       " '__lt__',\n",
       " '__mul__',\n",
       " '__ne__',\n",
       " '__new__',\n",
       " '__reduce__',\n",
       " '__reduce_ex__',\n",
       " '__repr__',\n",
       " '__reversed__',\n",
       " '__rmul__',\n",
       " '__setattr__',\n",
       " '__setitem__',\n",
       " '__sizeof__',\n",
       " '__str__',\n",
       " '__subclasshook__',\n",
       " 'append',\n",
       " 'clear',\n",
       " 'copy',\n",
       " 'count',\n",
       " 'extend',\n",
       " 'index',\n",
       " 'insert',\n",
       " 'pop',\n",
       " 'remove',\n",
       " 'reverse',\n",
       " 'sort']"
      ]
     },
     "execution_count": 3,
     "metadata": {},
     "output_type": "execute_result"
    }
   ],
   "source": [
    "help(arr.sort)\n",
    "dir(arr)\n"
   ]
  },
  {
   "cell_type": "code",
   "execution_count": 4,
   "metadata": {},
   "outputs": [
    {
     "name": "stdout",
     "output_type": "stream",
     "text": [
      "[1, 2, 3, 4, 5, 6]\n",
      "[1, 3, 4, 5, 6]\n",
      "[1, 3, 5, 6]\n",
      "[1, 3, 3, 5, 6]\n",
      "[6, 5, 3, 3, 1]\n",
      "[1, 3, 3, 5, 6]\n",
      "[]\n"
     ]
    }
   ],
   "source": [
    "arr.append(6)\n",
    "print(arr)\n",
    "arr.remove(2)\n",
    "print(arr)\n",
    "arr.pop(2)\n",
    "print(arr)\n",
    "arr.insert(2,3)\n",
    "print(arr)\n",
    "arr.reverse()\n",
    "print(arr)\n",
    "arr.sort()\n",
    "print(arr)\n",
    "arr.clear()\n",
    "print(arr)"
   ]
  },
  {
   "cell_type": "code",
   "execution_count": 5,
   "metadata": {},
   "outputs": [
    {
     "name": "stdout",
     "output_type": "stream",
     "text": [
      "[44, 55, 66, 34, 23, 12, -2]\n"
     ]
    }
   ],
   "source": [
    "arr.append(44)\n",
    "arr.append(55)\n",
    "arr.append(66)\n",
    "arr.append(34)\n",
    "arr.append(23)\n",
    "arr.append(12)\n",
    "arr.append(-2)\n",
    "print(arr)"
   ]
  },
  {
   "cell_type": "code",
   "execution_count": 6,
   "metadata": {},
   "outputs": [
    {
     "name": "stdout",
     "output_type": "stream",
     "text": [
      "232\n",
      "66\n",
      "-2\n"
     ]
    }
   ],
   "source": [
    "sum=sum(arr)\n",
    "print(sum)\n",
    "\n",
    "max=max(arr)\n",
    "print(max)\n",
    "\n",
    "min=min(arr)\n",
    "print(min)\n",
    "\n"
   ]
  },
  {
   "cell_type": "code",
   "execution_count": 7,
   "metadata": {},
   "outputs": [
    {
     "name": "stdout",
     "output_type": "stream",
     "text": [
      "0\n",
      "1\n",
      "2\n",
      "3\n",
      "4\n",
      "5\n",
      "6\n",
      "7\n",
      "8\n",
      "9\n",
      "H\n",
      "e\n",
      "l\n",
      "l\n",
      "o\n",
      " \n",
      "W\n",
      "o\n",
      "r\n",
      "l\n",
      "d\n"
     ]
    }
   ],
   "source": [
    "for i in range(10):\n",
    "    print(i)\n",
    "\n",
    "for char in \"Hello World\":\n",
    "    print(char)\n"
   ]
  },
  {
   "cell_type": "code",
   "execution_count": 8,
   "metadata": {},
   "outputs": [
    {
     "name": "stdout",
     "output_type": "stream",
     "text": [
      "44\n",
      "66\n",
      "34\n",
      "12\n",
      "-2\n"
     ]
    }
   ],
   "source": [
    "for i in arr:\n",
    "    if(i%2==0):\n",
    "        print(i)\n"
   ]
  },
  {
   "cell_type": "code",
   "execution_count": 9,
   "metadata": {},
   "outputs": [
    {
     "name": "stdout",
     "output_type": "stream",
     "text": [
      "25\n"
     ]
    }
   ],
   "source": [
    "def fun(x):\n",
    "    return x*x\n",
    "\n",
    "print(fun(5))\n",
    "\n"
   ]
  },
  {
   "cell_type": "code",
   "execution_count": 10,
   "metadata": {},
   "outputs": [
    {
     "name": "stdout",
     "output_type": "stream",
     "text": [
      "{'name': 'John', 'age': 30, 'city': 'New York'}\n",
      "<class 'dict'>\n",
      "John\n",
      "John\n",
      "{'name': 'John', 'age': 30, 'city': 'New York', 'email': ' Test'}\n",
      "{'name': 'John', 'age': 30, 'city': 'New York'}\n",
      "{'name': 'John Doe', 'age': 30, 'city': 'New York'}\n"
     ]
    },
    {
     "data": {
      "text/plain": [
       "dict_keys(['name', 'age', 'city'])"
      ]
     },
     "execution_count": 10,
     "metadata": {},
     "output_type": "execute_result"
    }
   ],
   "source": [
    "#dictionary examples\n",
    "dict1 = {\"name\":\"John\", \"age\":30, \"city\":\"New York\"}\n",
    "print(dict1)\n",
    "print(type(dict1))\n",
    "print(dict1[\"name\"])\n",
    "print(dict1.get(\"name\"))\n",
    "dict1[\"email\"]=\" Test\"\n",
    "print(dict1)\n",
    "dict1.pop(\"email\")\n",
    "print(dict1)\n",
    "dict1[\"name\"]=\"John Doe\"\n",
    "print(dict1)\n",
    "dict1.keys()"
   ]
  },
  {
   "cell_type": "code",
   "execution_count": 11,
   "metadata": {},
   "outputs": [
    {
     "name": "stdout",
     "output_type": "stream",
     "text": [
      "{'name': None, 'age': None, 'city': None}\n",
      "{'name': 'John', 'age': 30, 'city': 'New York'}\n"
     ]
    }
   ],
   "source": [
    "def createDict(keys):\n",
    "    dict1 = {}\n",
    "    for key in keys:\n",
    "        dict1[key] = None\n",
    "    return dict1\n",
    "\n",
    "keys = [\"name\", \"age\", \"city\"]\n",
    "dict1 = createDict(keys)\n",
    "print(dict1)\n",
    "dict1['name'] = \"John\"\n",
    "dict1['age'] = 30\n",
    "dict1['city'] = \"New York\"\n",
    "print(dict1)\n"
   ]
  },
  {
   "cell_type": "code",
   "execution_count": 12,
   "metadata": {},
   "outputs": [
    {
     "name": "stdout",
     "output_type": "stream",
     "text": [
      "name is in keys\n"
     ]
    }
   ],
   "source": [
    "keys = dict1.keys()\n",
    "\n",
    "if(\"name\" in keys):\n",
    "    print(\"name is in keys\")\n",
    "else:\n",
    "    print(\"name is not in keys\")\n",
    "\n",
    "    "
   ]
  }
 ],
 "metadata": {
  "kernelspec": {
   "display_name": "Python 3",
   "language": "python",
   "name": "python3"
  },
  "language_info": {
   "codemirror_mode": {
    "name": "ipython",
    "version": 3
   },
   "file_extension": ".py",
   "mimetype": "text/x-python",
   "name": "python",
   "nbconvert_exporter": "python",
   "pygments_lexer": "ipython3",
   "version": "3.10.9"
  },
  "orig_nbformat": 4,
  "vscode": {
   "interpreter": {
    "hash": "da9d011cf88ac0aad9b721eb323fe6dc8bd00020b3e37dcd54251a3d220ad372"
   }
  }
 },
 "nbformat": 4,
 "nbformat_minor": 2
}
