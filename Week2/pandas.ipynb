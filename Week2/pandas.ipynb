{
 "cells": [
  {
   "cell_type": "code",
   "execution_count": 1,
   "metadata": {},
   "outputs": [
    {
     "name": "stdout",
     "output_type": "stream",
     "text": [
      "    Name  Age  Rating      City Country Profession\n",
      "0    Tom   28    4.23  New York     USA   Engineer\n",
      "1   Jack   34    3.24     Paris  France  Scientist\n",
      "2  Steve   29    3.98    London      UK     Lawyer\n",
      "3  Ricky   42    2.56    Mumbai   India     Doctor\n"
     ]
    }
   ],
   "source": [
    "import pandas as pd\n",
    "import numpy as np\n",
    "\n",
    "\n",
    "dictionary = {'Name': ['Tom', 'Jack', 'Steve', 'Ricky'], 'Age': [28, 34, 29, 42], 'Rating': [4.23, 3.24, 3.98, 2.56] , 'City': ['New York', 'Paris', 'London', 'Mumbai'] , 'Country': ['USA', 'France', 'UK', 'India'] , 'Profession': ['Engineer', 'Scientist', 'Lawyer', 'Doctor']}\n",
    "df = pd.DataFrame(dictionary)\n",
    "print(df)"
   ]
  },
  {
   "cell_type": "code",
   "execution_count": 2,
   "metadata": {},
   "outputs": [
    {
     "name": "stdout",
     "output_type": "stream",
     "text": [
      "       #                   Name   Type 1  Type 2  Total  HP  Attack  Defense  \\\n",
      "0      1              Bulbasaur    Grass  Poison    318  45      49       49   \n",
      "1      2                Ivysaur    Grass  Poison    405  60      62       63   \n",
      "2      3               Venusaur    Grass  Poison    525  80      82       83   \n",
      "3      3  VenusaurMega Venusaur    Grass  Poison    625  80     100      123   \n",
      "4      4             Charmander     Fire     NaN    309  39      52       43   \n",
      "..   ...                    ...      ...     ...    ...  ..     ...      ...   \n",
      "795  719                Diancie     Rock   Fairy    600  50     100      150   \n",
      "796  719    DiancieMega Diancie     Rock   Fairy    700  50     160      110   \n",
      "797  720    HoopaHoopa Confined  Psychic   Ghost    600  80     110       60   \n",
      "798  720     HoopaHoopa Unbound  Psychic    Dark    680  80     160       60   \n",
      "799  721              Volcanion     Fire   Water    600  80     110      120   \n",
      "\n",
      "     Sp. Atk  Sp. Def  Speed  Generation  Legendary  \n",
      "0         65       65     45           1      False  \n",
      "1         80       80     60           1      False  \n",
      "2        100      100     80           1      False  \n",
      "3        122      120     80           1      False  \n",
      "4         60       50     65           1      False  \n",
      "..       ...      ...    ...         ...        ...  \n",
      "795      100      150     50           6       True  \n",
      "796      160      110    110           6       True  \n",
      "797      150      130     70           6       True  \n",
      "798      170      130     80           6       True  \n",
      "799      130       90     70           6       True  \n",
      "\n",
      "[800 rows x 13 columns]\n"
     ]
    }
   ],
   "source": [
    "url = \"https://gist.githubusercontent.com/armgilles/194bcff35001e7eb53a2a8b441e8b2c6/raw/92200bc0a673d5ce2110aaad4544ed6c4010f687/pokemon.csv\"\n",
    "pokedf = pd.read_csv(url)\n",
    "print(pokedf)\n"
   ]
  },
  {
   "cell_type": "code",
   "execution_count": 3,
   "metadata": {},
   "outputs": [
    {
     "name": "stdout",
     "output_type": "stream",
     "text": [
      "   #                   Name Type 1  Type 2  Total  HP  Attack  Defense  \\\n",
      "0  1              Bulbasaur  Grass  Poison    318  45      49       49   \n",
      "1  2                Ivysaur  Grass  Poison    405  60      62       63   \n",
      "2  3               Venusaur  Grass  Poison    525  80      82       83   \n",
      "3  3  VenusaurMega Venusaur  Grass  Poison    625  80     100      123   \n",
      "4  4             Charmander   Fire     NaN    309  39      52       43   \n",
      "\n",
      "   Sp. Atk  Sp. Def  Speed  Generation  Legendary  \n",
      "0       65       65     45           1      False  \n",
      "1       80       80     60           1      False  \n",
      "2      100      100     80           1      False  \n",
      "3      122      120     80           1      False  \n",
      "4       60       50     65           1      False  \n"
     ]
    }
   ],
   "source": [
    "head=pokedf.head()\n",
    "print(head)"
   ]
  },
  {
   "cell_type": "code",
   "execution_count": 4,
   "metadata": {},
   "outputs": [
    {
     "name": "stdout",
     "output_type": "stream",
     "text": [
      "       #                 Name   Type 1 Type 2  Total  HP  Attack  Defense  \\\n",
      "795  719              Diancie     Rock  Fairy    600  50     100      150   \n",
      "796  719  DiancieMega Diancie     Rock  Fairy    700  50     160      110   \n",
      "797  720  HoopaHoopa Confined  Psychic  Ghost    600  80     110       60   \n",
      "798  720   HoopaHoopa Unbound  Psychic   Dark    680  80     160       60   \n",
      "799  721            Volcanion     Fire  Water    600  80     110      120   \n",
      "\n",
      "     Sp. Atk  Sp. Def  Speed  Generation  Legendary  \n",
      "795      100      150     50           6       True  \n",
      "796      160      110    110           6       True  \n",
      "797      150      130     70           6       True  \n",
      "798      170      130     80           6       True  \n",
      "799      130       90     70           6       True  \n"
     ]
    }
   ],
   "source": [
    "print(pokedf.tail())"
   ]
  },
  {
   "cell_type": "code",
   "execution_count": 5,
   "metadata": {},
   "outputs": [
    {
     "name": "stdout",
     "output_type": "stream",
     "text": [
      "Index(['#', 'Name', 'Type 1', 'Type 2', 'Total', 'HP', 'Attack', 'Defense',\n",
      "       'Sp. Atk', 'Sp. Def', 'Speed', 'Generation', 'Legendary'],\n",
      "      dtype='object')\n",
      "<class 'pandas.core.frame.DataFrame'>\n",
      "RangeIndex: 800 entries, 0 to 799\n",
      "Data columns (total 13 columns):\n",
      " #   Column      Non-Null Count  Dtype \n",
      "---  ------      --------------  ----- \n",
      " 0   #           800 non-null    int64 \n",
      " 1   Name        800 non-null    object\n",
      " 2   Type 1      800 non-null    object\n",
      " 3   Type 2      414 non-null    object\n",
      " 4   Total       800 non-null    int64 \n",
      " 5   HP          800 non-null    int64 \n",
      " 6   Attack      800 non-null    int64 \n",
      " 7   Defense     800 non-null    int64 \n",
      " 8   Sp. Atk     800 non-null    int64 \n",
      " 9   Sp. Def     800 non-null    int64 \n",
      " 10  Speed       800 non-null    int64 \n",
      " 11  Generation  800 non-null    int64 \n",
      " 12  Legendary   800 non-null    bool  \n",
      "dtypes: bool(1), int64(9), object(3)\n",
      "memory usage: 75.9+ KB\n",
      "None\n"
     ]
    }
   ],
   "source": [
    "print(pokedf.columns)\n",
    "print(pokedf.info())"
   ]
  },
  {
   "cell_type": "code",
   "execution_count": 6,
   "metadata": {},
   "outputs": [
    {
     "name": "stdout",
     "output_type": "stream",
     "text": [
      "                #      Total          HP      Attack     Defense     Sp. Atk  \\\n",
      "count  800.000000  800.00000  800.000000  800.000000  800.000000  800.000000   \n",
      "mean   362.813750  435.10250   69.258750   79.001250   73.842500   72.820000   \n",
      "std    208.343798  119.96304   25.534669   32.457366   31.183501   32.722294   \n",
      "min      1.000000  180.00000    1.000000    5.000000    5.000000   10.000000   \n",
      "25%    184.750000  330.00000   50.000000   55.000000   50.000000   49.750000   \n",
      "50%    364.500000  450.00000   65.000000   75.000000   70.000000   65.000000   \n",
      "75%    539.250000  515.00000   80.000000  100.000000   90.000000   95.000000   \n",
      "max    721.000000  780.00000  255.000000  190.000000  230.000000  194.000000   \n",
      "\n",
      "          Sp. Def       Speed  Generation  \n",
      "count  800.000000  800.000000   800.00000  \n",
      "mean    71.902500   68.277500     3.32375  \n",
      "std     27.828916   29.060474     1.66129  \n",
      "min     20.000000    5.000000     1.00000  \n",
      "25%     50.000000   45.000000     2.00000  \n",
      "50%     70.000000   65.000000     3.00000  \n",
      "75%     90.000000   90.000000     5.00000  \n",
      "max    230.000000  180.000000     6.00000  \n"
     ]
    }
   ],
   "source": [
    "print(pokedf.describe())"
   ]
  },
  {
   "cell_type": "code",
   "execution_count": 7,
   "metadata": {},
   "outputs": [
    {
     "name": "stdout",
     "output_type": "stream",
     "text": [
      "0       49\n",
      "1       63\n",
      "2       83\n",
      "3      123\n",
      "4       43\n",
      "      ... \n",
      "795    150\n",
      "796    110\n",
      "797     60\n",
      "798     60\n",
      "799    120\n",
      "Name: Defense, Length: 800, dtype: int64\n",
      "     Defense  Attack\n",
      "0         49      49\n",
      "1         63      62\n",
      "2         83      82\n",
      "3        123     100\n",
      "4         43      52\n",
      "..       ...     ...\n",
      "795      150     100\n",
      "796      110     160\n",
      "797       60     110\n",
      "798       60     160\n",
      "799      120     110\n",
      "\n",
      "[800 rows x 2 columns]\n",
      "73.8425\n"
     ]
    }
   ],
   "source": [
    "print(pokedf['Defense'])\n",
    "print(pokedf[['Defense','Attack']])\n",
    "print(pokedf['Defense'].mean())"
   ]
  },
  {
   "cell_type": "code",
   "execution_count": 8,
   "metadata": {},
   "outputs": [
    {
     "name": "stdout",
     "output_type": "stream",
     "text": [
      "0       49\n",
      "1       63\n",
      "2       83\n",
      "3      123\n",
      "4       43\n",
      "      ... \n",
      "795    150\n",
      "796    110\n",
      "797     60\n",
      "798     60\n",
      "799    120\n",
      "Name: Defense, Length: 800, dtype: int64\n"
     ]
    }
   ],
   "source": [
    "print(pokedf.loc[:,'Defense'])"
   ]
  },
  {
   "cell_type": "code",
   "execution_count": 9,
   "metadata": {},
   "outputs": [
    {
     "name": "stdout",
     "output_type": "stream",
     "text": [
      "   #                   Name Type 1  Type 2\n",
      "0  1              Bulbasaur  Grass  Poison\n",
      "1  2                Ivysaur  Grass  Poison\n",
      "2  3               Venusaur  Grass  Poison\n",
      "3  3  VenusaurMega Venusaur  Grass  Poison\n",
      "4  4             Charmander   Fire     NaN\n"
     ]
    }
   ],
   "source": [
    "print(pokedf.iloc[0:5,0:4])"
   ]
  },
  {
   "cell_type": "code",
   "execution_count": 10,
   "metadata": {},
   "outputs": [
    {
     "name": "stdout",
     "output_type": "stream",
     "text": [
      "   Defense  Attack\n",
      "0       49      49\n",
      "1       63      62\n",
      "2       83      82\n",
      "3      123     100\n",
      "4       43      52\n",
      "5       58      64\n"
     ]
    }
   ],
   "source": [
    "print(pokedf.loc[0:5,['Defense','Attack']])"
   ]
  },
  {
   "cell_type": "code",
   "execution_count": 11,
   "metadata": {},
   "outputs": [
    {
     "name": "stdout",
     "output_type": "stream",
     "text": [
      "   #                   Name Type 1  Type 2  Total  HP  Attack  Defense  \\\n",
      "0  1              Bulbasaur  Grass  Poison     98  45      49       49   \n",
      "1  2                Ivysaur  Grass  Poison    125  60      62       63   \n",
      "2  3               Venusaur  Grass  Poison    165  80      82       83   \n",
      "3  3  VenusaurMega Venusaur  Grass  Poison    223  80     100      123   \n",
      "4  4             Charmander   Fire     NaN     95  39      52       43   \n",
      "\n",
      "   Sp. Atk  Sp. Def  Speed  Generation  Legendary  \n",
      "0       65       65     45           1      False  \n",
      "1       80       80     60           1      False  \n",
      "2      100      100     80           1      False  \n",
      "3      122      120     80           1      False  \n",
      "4       60       50     65           1      False  \n"
     ]
    }
   ],
   "source": [
    "pokedf['Total'] = pokedf['Attack'] + pokedf['Defense']\n",
    "print(pokedf.head())\n"
   ]
  },
  {
   "cell_type": "code",
   "execution_count": 12,
   "metadata": {},
   "outputs": [
    {
     "name": "stdout",
     "output_type": "stream",
     "text": [
      "0      False\n",
      "1       True\n",
      "2       True\n",
      "3       True\n",
      "4      False\n",
      "       ...  \n",
      "795     True\n",
      "796     True\n",
      "797     True\n",
      "798     True\n",
      "799     True\n",
      "Name: Total, Length: 800, dtype: bool\n"
     ]
    }
   ],
   "source": [
    "print(pokedf['Total'] > 110)\n"
   ]
  },
  {
   "cell_type": "code",
   "execution_count": 13,
   "metadata": {},
   "outputs": [
    {
     "name": "stdout",
     "output_type": "stream",
     "text": [
      "       #                   Name Type 1    Type 2  Total  HP  Attack  Defense  \\\n",
      "1      2                Ivysaur  Grass    Poison    125  60      62       63   \n",
      "2      3               Venusaur  Grass    Poison    165  80      82       83   \n",
      "3      3  VenusaurMega Venusaur  Grass    Poison    223  80     100      123   \n",
      "49    44                  Gloom  Grass    Poison    135  60      65       70   \n",
      "50    45              Vileplume  Grass    Poison    165  75      80       85   \n",
      "76    70             Weepinbell  Grass    Poison    140  65      90       50   \n",
      "77    71             Victreebel  Grass    Poison    170  80     105       65   \n",
      "110  102              Exeggcute  Grass   Psychic    120  60      40       80   \n",
      "111  103              Exeggutor  Grass   Psychic    180  95      95       85   \n",
      "122  114                Tangela  Grass       NaN    170  65      55      115   \n",
      "166  152              Chikorita  Grass       NaN    114  45      49       65   \n",
      "167  153                Bayleef  Grass       NaN    142  60      62       80   \n",
      "168  154               Meganium  Grass       NaN    182  80      82      100   \n",
      "197  182              Bellossom  Grass       NaN    175  75      80       95   \n",
      "204  189               Jumpluff  Grass    Flying    125  75      55       70   \n",
      "207  192               Sunflora  Grass       NaN    130  75      75       55   \n",
      "274  254               Sceptile  Grass       NaN    150  70      85       65   \n",
      "275  254  SceptileMega Sceptile  Grass    Dragon    185  70     110       75   \n",
      "298  275                Shiftry  Grass      Dark    160  90     100       60   \n",
      "310  286                Breloom  Grass  Fighting    210  60     130       80   \n",
      "\n",
      "     Sp. Atk  Sp. Def  Speed  Generation  Legendary  \n",
      "1         80       80     60           1      False  \n",
      "2        100      100     80           1      False  \n",
      "3        122      120     80           1      False  \n",
      "49        85       75     40           1      False  \n",
      "50       110       90     50           1      False  \n",
      "76        85       45     55           1      False  \n",
      "77       100       70     70           1      False  \n",
      "110       60       45     40           1      False  \n",
      "111      125       65     55           1      False  \n",
      "122      100       40     60           1      False  \n",
      "166       49       65     45           2      False  \n",
      "167       63       80     60           2      False  \n",
      "168       83      100     80           2      False  \n",
      "197       90      100     50           2      False  \n",
      "204       55       95    110           2      False  \n",
      "207      105       85     30           2      False  \n",
      "274      105       85    120           3      False  \n",
      "275      145       85    145           3      False  \n",
      "298       90       60     80           3      False  \n",
      "310       60       60     70           3      False  \n"
     ]
    }
   ],
   "source": [
    "print(pokedf.loc[(pokedf['Total'] > 110) & (pokedf['Type 1'] == 'Grass')].head(20))"
   ]
  },
  {
   "cell_type": "code",
   "execution_count": 14,
   "metadata": {},
   "outputs": [
    {
     "name": "stdout",
     "output_type": "stream",
     "text": [
      "                   #       Total         HP      Attack     Defense  \\\n",
      "Type 1                                                                \n",
      "Steel     442.851852  219.074074  65.222222   92.703704  126.370370   \n",
      "Rock      392.727273  193.659091  65.363636   92.863636  100.795455   \n",
      "Dragon    474.375000  198.500000  83.312500  112.125000   86.375000   \n",
      "Ground    356.281250  180.593750  73.781250   95.750000   84.843750   \n",
      "Ghost     486.500000  154.968750  64.437500   73.781250   81.187500   \n",
      "Water     303.089286  147.098214  72.062500   74.151786   72.946429   \n",
      "Ice       423.541667  144.166667  72.000000   72.750000   71.416667   \n",
      "Grass     344.871429  144.014286  67.271429   73.214286   70.800000   \n",
      "Bug       334.492754  141.695652  56.884058   70.971014   70.724638   \n",
      "Dark      461.354839  158.612903  66.806452   88.387097   70.225806   \n",
      "Poison    251.785714  143.500000  67.250000   74.678571   68.821429   \n",
      "Fire      327.403846  152.538462  69.903846   84.769231   67.769231   \n",
      "Psychic   380.807018  139.140351  70.631579   71.456140   67.684211   \n",
      "Electric  363.500000  135.386364  59.795455   69.090909   66.295455   \n",
      "Flying    677.750000  145.000000  70.750000   78.750000   66.250000   \n",
      "Fighting  363.851852  162.703704  69.851852   96.777778   65.925926   \n",
      "Fairy     449.529412  127.235294  74.117647   61.529412   65.705882   \n",
      "Normal    319.173469  133.316327  77.275510   73.469388   59.846939   \n",
      "\n",
      "            Sp. Atk    Sp. Def       Speed  Generation  Legendary  \n",
      "Type 1                                                             \n",
      "Steel     67.518519  80.629630   55.259259    3.851852   0.148148  \n",
      "Rock      63.340909  75.477273   55.909091    3.454545   0.090909  \n",
      "Dragon    96.843750  88.843750   83.031250    3.875000   0.375000  \n",
      "Ground    56.468750  62.750000   63.906250    3.156250   0.125000  \n",
      "Ghost     79.343750  76.468750   64.343750    4.187500   0.062500  \n",
      "Water     74.812500  70.517857   65.964286    2.857143   0.035714  \n",
      "Ice       77.541667  76.291667   63.458333    3.541667   0.083333  \n",
      "Grass     77.500000  70.428571   61.928571    3.357143   0.042857  \n",
      "Bug       53.869565  64.797101   61.681159    3.217391   0.000000  \n",
      "Dark      74.645161  69.516129   76.161290    4.032258   0.064516  \n",
      "Poison    60.428571  64.392857   63.571429    2.535714   0.000000  \n",
      "Fire      88.980769  72.211538   74.442308    3.211538   0.096154  \n",
      "Psychic   98.403509  86.280702   81.491228    3.385965   0.245614  \n",
      "Electric  90.022727  73.704545   84.500000    3.272727   0.090909  \n",
      "Flying    94.250000  72.500000  102.500000    5.500000   0.500000  \n",
      "Fighting  53.111111  64.703704   66.074074    3.370370   0.000000  \n",
      "Fairy     78.529412  84.705882   48.588235    4.117647   0.058824  \n",
      "Normal    55.816327  63.724490   71.551020    3.051020   0.020408  \n"
     ]
    },
    {
     "name": "stderr",
     "output_type": "stream",
     "text": [
      "/var/folders/mm/st71ms0575135d4m9h4dxwvw0000gn/T/ipykernel_39613/2998845937.py:1: FutureWarning: The default value of numeric_only in DataFrameGroupBy.mean is deprecated. In a future version, numeric_only will default to False. Either specify numeric_only or select only columns which should be valid for the function.\n",
      "  print(pokedf.groupby(['Type 1']).mean().sort_values('Defense', ascending=False))\n"
     ]
    }
   ],
   "source": [
    "print(pokedf.groupby(['Type 1']).mean().sort_values('Defense', ascending=False))\n"
   ]
  },
  {
   "cell_type": "code",
   "execution_count": 15,
   "metadata": {},
   "outputs": [
    {
     "name": "stdout",
     "output_type": "stream",
     "text": [
      "   #                   Name Type 1  Type 2  Total  HP  Attack  Defense  \\\n",
      "0  1              Bulbasaur  Grass  Poison     98  45      49       49   \n",
      "1  2                Ivysaur  Grass  Poison    125  60      62       63   \n",
      "2  3               Venusaur  Grass  Poison    165  80      82       83   \n",
      "3  3  VenusaurMega Venusaur  Grass  Poison    223  80     100      123   \n",
      "4  4             Charmander   Fire     NaN     95  39      52       43   \n",
      "\n",
      "   Sp. Atk  Sp. Def  Speed  Generation  Legendary  Strong  \n",
      "0       65       65     45           1      False  Strong  \n",
      "1       80       80     60           1      False  Strong  \n",
      "2      100      100     80           1      False  Strong  \n",
      "3      122      120     80           1      False  Strong  \n",
      "4       60       50     65           1      False    Weak  \n"
     ]
    }
   ],
   "source": [
    "pokedf['Strong'] = np.where(pokedf['Type 1'] == 'Grass', 'Strong', 'Weak')\n",
    "print(pokedf.head())\n"
   ]
  },
  {
   "cell_type": "code",
   "execution_count": 16,
   "metadata": {},
   "outputs": [
    {
     "name": "stdout",
     "output_type": "stream",
     "text": [
      "   #                   NAME TYPE 1  TYPE 2  TOTAL  HP  ATTACK  DEFENSE  \\\n",
      "0  1              Bulbasaur  Grass  Poison     98  45      49       49   \n",
      "1  2                Ivysaur  Grass  Poison    125  60      62       63   \n",
      "2  3               Venusaur  Grass  Poison    165  80      82       83   \n",
      "3  3  VenusaurMega Venusaur  Grass  Poison    223  80     100      123   \n",
      "4  4             Charmander   Fire     NaN     95  39      52       43   \n",
      "\n",
      "   SP. ATK  SP. DEF  SPEED  GENERATION  LEGENDARY  STRONG  \n",
      "0       65       65     45           1      False  Strong  \n",
      "1       80       80     60           1      False  Strong  \n",
      "2      100      100     80           1      False  Strong  \n",
      "3      122      120     80           1      False  Strong  \n",
      "4       60       50     65           1      False    Weak  \n",
      "   #                   Name Type 1  Type 2  Total  Hp  Attack  Defense  \\\n",
      "0  1              Bulbasaur  Grass  Poison     98  45      49       49   \n",
      "1  2                Ivysaur  Grass  Poison    125  60      62       63   \n",
      "2  3               Venusaur  Grass  Poison    165  80      82       83   \n",
      "3  3  VenusaurMega Venusaur  Grass  Poison    223  80     100      123   \n",
      "4  4             Charmander   Fire     NaN     95  39      52       43   \n",
      "\n",
      "   Sp. Atk  Sp. Def  Speed  Generation  Legendary  Strong  \n",
      "0       65       65     45           1      False  Strong  \n",
      "1       80       80     60           1      False  Strong  \n",
      "2      100      100     80           1      False  Strong  \n",
      "3      122      120     80           1      False  Strong  \n",
      "4       60       50     65           1      False    Weak  \n"
     ]
    }
   ],
   "source": [
    "pokedf.columns = map(str.upper, pokedf.columns)\n",
    "print(pokedf.head())\n",
    "pokedf.columns = pokedf.columns.str.title()\n",
    "print(pokedf.head())"
   ]
  },
  {
   "cell_type": "code",
   "execution_count": 17,
   "metadata": {},
   "outputs": [
    {
     "name": "stdout",
     "output_type": "stream",
     "text": [
      "       #                   Name   Type 1  Type 2  Total  Hp  Attack  Defense  \\\n",
      "0      1              Bulbasaur    Grass  Poison     98  45      49       49   \n",
      "1      2                Ivysaur    Grass  Poison    125  60      62       63   \n",
      "2      3               Venusaur    Grass  Poison    165  80      82       83   \n",
      "3      3  VenusaurMega Venusaur    Grass  Poison    223  80     100      123   \n",
      "4      4             Charmander     Fire     NaN     95  39      52       43   \n",
      "795  719                Diancie     Rock   Fairy    250  50     100      150   \n",
      "796  719    DiancieMega Diancie     Rock   Fairy    270  50     160      110   \n",
      "797  720    HoopaHoopa Confined  Psychic   Ghost    170  80     110       60   \n",
      "798  720     HoopaHoopa Unbound  Psychic    Dark    220  80     160       60   \n",
      "799  721              Volcanion     Fire   Water    230  80     110      120   \n",
      "\n",
      "     Sp. Atk  Sp. Def  Speed  Generation  Legendary  Strong  \n",
      "0         65       65     45           1      False  Strong  \n",
      "1         80       80     60           1      False  Strong  \n",
      "2        100      100     80           1      False  Strong  \n",
      "3        122      120     80           1      False  Strong  \n",
      "4         60       50     65           1      False    Weak  \n",
      "795      100      150     50           6       True    Weak  \n",
      "796      160      110    110           6       True    Weak  \n",
      "797      150      130     70           6       True    Weak  \n",
      "798      170      130     80           6       True    Weak  \n",
      "799      130       90     70           6       True    Weak  \n",
      "       #                   Name Type 1  Type 2  Total    Hp Attack Defense  \\\n",
      "0    1.0              Bulbasaur  Grass  Poison   98.0  45.0   49.0    49.0   \n",
      "1    2.0                Ivysaur  Grass  Poison  125.0  60.0   62.0    63.0   \n",
      "2    3.0               Venusaur  Grass  Poison  165.0  80.0   82.0    83.0   \n",
      "3    3.0  VenusaurMega Venusaur  Grass  Poison  223.0  80.0  100.0   123.0   \n",
      "4    4.0             Charmander   Fire     NaN   95.0  39.0   52.0    43.0   \n",
      "795  NaN                    NaN    NaN     NaN    NaN   NaN    NaN     NaN   \n",
      "796  NaN                    NaN    NaN     NaN    NaN   NaN    NaN     NaN   \n",
      "797  NaN                    NaN    NaN     NaN    NaN   NaN    NaN     NaN   \n",
      "798  NaN                    NaN    NaN     NaN    NaN   NaN    NaN     NaN   \n",
      "799  NaN                    NaN    NaN     NaN    NaN   NaN    NaN     NaN   \n",
      "\n",
      "     Sp. Atk Sp. Def  ...  Total    Hp Attack Defense  Sp. Atk Sp. Def  Speed  \\\n",
      "0       65.0    65.0  ...    NaN   NaN    NaN     NaN      NaN     NaN    NaN   \n",
      "1       80.0    80.0  ...    NaN   NaN    NaN     NaN      NaN     NaN    NaN   \n",
      "2      100.0   100.0  ...    NaN   NaN    NaN     NaN      NaN     NaN    NaN   \n",
      "3      122.0   120.0  ...    NaN   NaN    NaN     NaN      NaN     NaN    NaN   \n",
      "4       60.0    50.0  ...    NaN   NaN    NaN     NaN      NaN     NaN    NaN   \n",
      "795      NaN     NaN  ...  250.0  50.0  100.0   150.0    100.0   150.0   50.0   \n",
      "796      NaN     NaN  ...  270.0  50.0  160.0   110.0    160.0   110.0  110.0   \n",
      "797      NaN     NaN  ...  170.0  80.0  110.0    60.0    150.0   130.0   70.0   \n",
      "798      NaN     NaN  ...  220.0  80.0  160.0    60.0    170.0   130.0   80.0   \n",
      "799      NaN     NaN  ...  230.0  80.0  110.0   120.0    130.0    90.0   70.0   \n",
      "\n",
      "    Generation  Legendary  Strong  \n",
      "0          NaN        NaN     NaN  \n",
      "1          NaN        NaN     NaN  \n",
      "2          NaN        NaN     NaN  \n",
      "3          NaN        NaN     NaN  \n",
      "4          NaN        NaN     NaN  \n",
      "795        6.0       True    Weak  \n",
      "796        6.0       True    Weak  \n",
      "797        6.0       True    Weak  \n",
      "798        6.0       True    Weak  \n",
      "799        6.0       True    Weak  \n",
      "\n",
      "[10 rows x 28 columns]\n"
     ]
    }
   ],
   "source": [
    "data1= pokedf.head()\n",
    "data2= pokedf.tail()\n",
    "data3= pd.concat([data1,data2],axis=0)\n",
    "print(data3)\n",
    "data3 = pd.concat([data1,data2],axis=1)\n",
    "print(data3)\n"
   ]
  },
  {
   "cell_type": "code",
   "execution_count": 18,
   "metadata": {},
   "outputs": [
    {
     "name": "stdout",
     "output_type": "stream",
     "text": [
      "   #                   Name Type 1  Type 2  Total  Hp  Attack  Defense  \\\n",
      "0  1              Bulbasaur  Grass  Poison     98  45      49       49   \n",
      "1  2                Ivysaur  Grass  Poison    125  60      62       63   \n",
      "2  3               Venusaur  Grass  Poison    165  80      82       83   \n",
      "3  3  VenusaurMega Venusaur  Grass  Poison    223  80     100      123   \n",
      "4  4             Charmander   Fire     NaN     95  39      52       43   \n",
      "\n",
      "   Sp. Atk  Sp. Def  Speed  Generation  Legendary  Strong    TypeCombo  \n",
      "0       65       65     45           1      False  Strong  GrassPoison  \n",
      "1       80       80     60           1      False  Strong  GrassPoison  \n",
      "2      100      100     80           1      False  Strong  GrassPoison  \n",
      "3      122      120     80           1      False  Strong  GrassPoison  \n",
      "4       60       50     65           1      False    Weak          NaN  \n"
     ]
    }
   ],
   "source": [
    "pokedf[\"TypeCombo\"] = pokedf[\"Type 1\"] + pokedf[\"Type 2\"]\n",
    "print(pokedf.head()) "
   ]
  },
  {
   "cell_type": "code",
   "execution_count": 19,
   "metadata": {},
   "outputs": [
    {
     "name": "stdout",
     "output_type": "stream",
     "text": [
      "   #                   Name Type 1  Type 2  Total  Hp  Attack  Defense  \\\n",
      "0  1              Bulbasaur  Grass  Poison     98  45      98       49   \n",
      "1  2                Ivysaur  Grass  Poison    125  60     124       63   \n",
      "2  3               Venusaur  Grass  Poison    165  80     164       83   \n",
      "3  3  VenusaurMega Venusaur  Grass  Poison    223  80     200      123   \n",
      "4  4             Charmander   Fire     NaN     95  39     104       43   \n",
      "\n",
      "   Sp. Atk  Sp. Def  Speed  Generation  Legendary  Strong    TypeCombo  \n",
      "0       65       65     45           1      False  Strong  GrassPoison  \n",
      "1       80       80     60           1      False  Strong  GrassPoison  \n",
      "2      100      100     80           1      False  Strong  GrassPoison  \n",
      "3      122      120     80           1      False  Strong  GrassPoison  \n",
      "4       60       50     65           1      False    Weak          NaN  \n",
      "   #                   Name Type 1  Type 2  Total  Hp  Attack  Defense  \\\n",
      "0  1              Bulbasaur  Grass  Poison     98  45    49.0       49   \n",
      "1  2                Ivysaur  Grass  Poison    125  60    62.0       63   \n",
      "2  3               Venusaur  Grass  Poison    165  80    82.0       83   \n",
      "3  3  VenusaurMega Venusaur  Grass  Poison    223  80   100.0      123   \n",
      "4  4             Charmander   Fire     NaN     95  39    52.0       43   \n",
      "\n",
      "   Sp. Atk  Sp. Def  Speed  Generation  Legendary  Strong    TypeCombo  \n",
      "0       65       65     45           1      False  Strong  GrassPoison  \n",
      "1       80       80     60           1      False  Strong  GrassPoison  \n",
      "2      100      100     80           1      False  Strong  GrassPoison  \n",
      "3      122      120     80           1      False  Strong  GrassPoison  \n",
      "4       60       50     65           1      False    Weak          NaN  \n"
     ]
    }
   ],
   "source": [
    "#multiply attack by 2\n",
    "pokedf[\"Attack\"] = pokedf[\"Attack\"] * 2\n",
    "print(pokedf.head())\n",
    "#divide attack by 2\n",
    "pokedf[\"Attack\"] = pokedf[\"Attack\"] / 2\n",
    "print(pokedf.head())\n"
   ]
  }
 ],
 "metadata": {
  "kernelspec": {
   "display_name": "Python 3",
   "language": "python",
   "name": "python3"
  },
  "language_info": {
   "codemirror_mode": {
    "name": "ipython",
    "version": 3
   },
   "file_extension": ".py",
   "mimetype": "text/x-python",
   "name": "python",
   "nbconvert_exporter": "python",
   "pygments_lexer": "ipython3",
   "version": "3.10.9"
  },
  "orig_nbformat": 4
 },
 "nbformat": 4,
 "nbformat_minor": 2
}
